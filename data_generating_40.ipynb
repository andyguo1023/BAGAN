{
  "nbformat": 4,
  "nbformat_minor": 0,
  "metadata": {
    "kernelspec": {
      "display_name": "Python 3.6.8 64-bit",
      "language": "python",
      "name": "python36864bit9b0b448d0bce49f7abb4e4e85b7cb750"
    },
    "language_info": {
      "codemirror_mode": {
        "name": "ipython",
        "version": 3
      },
      "file_extension": ".py",
      "mimetype": "text/x-python",
      "name": "python",
      "nbconvert_exporter": "python",
      "pygments_lexer": "ipython3",
      "version": "3.6.8"
    },
    "colab": {
      "name": "data_generating_40.ipynb",
      "provenance": [],
      "collapsed_sections": [],
      "toc_visible": true
    }
  },
  "cells": [
    {
      "cell_type": "code",
      "metadata": {
        "id": "_bsMexYHPOZS",
        "colab_type": "code",
        "colab": {
          "base_uri": "https://localhost:8080/",
          "height": 105
        },
        "outputId": "04bfda69-2a50-457a-dcce-6c01011e6aa4"
      },
      "source": [
        "# Mount Google drive\n",
        "from google.colab import drive\n",
        "drive.mount('/content/drive')\n",
        "!ls \"/content/drive/My Drive/SingleImageDataAug/BAGAN/BAGAN code\""
      ],
      "execution_count": 1,
      "outputs": [
        {
          "output_type": "stream",
          "text": [
            "Drive already mounted at /content/drive; to attempt to forcibly remount, call drive.mount(\"/content/drive\", force_remount=True).\n",
            "bagan_train_new.py  data_generating_40.ipynb  selected_index_40.npz\n",
            "bagan_train.py\t    __pycache__\t\t      utils.py\n",
            "balancing_gan.py    rw\n"
          ],
          "name": "stdout"
        }
      ]
    },
    {
      "cell_type": "code",
      "metadata": {
        "id": "LSSq1fOs-Meh",
        "colab_type": "code",
        "colab": {
          "base_uri": "https://localhost:8080/",
          "height": 54
        },
        "outputId": "c0bbc79a-03a5-4092-deed-53295cbdd72e"
      },
      "source": [
        "! pip install cifar10_web"
      ],
      "execution_count": 22,
      "outputs": [
        {
          "output_type": "stream",
          "text": [
            "Requirement already satisfied: cifar10_web in /usr/local/lib/python3.6/dist-packages (0.0.4)\n"
          ],
          "name": "stdout"
        }
      ]
    },
    {
      "cell_type": "code",
      "metadata": {
        "id": "QPoPE2an9EjB",
        "colab_type": "code",
        "colab": {}
      },
      "source": [
        "!cp \"/content/drive/My Drive/SingleImageDataAug/BAGAN/BAGAN code/.\" . -a"
      ],
      "execution_count": 2,
      "outputs": []
    },
    {
      "cell_type": "code",
      "metadata": {
        "id": "kkiiwCOPd4n1",
        "colab_type": "code",
        "colab": {
          "base_uri": "https://localhost:8080/",
          "height": 51
        },
        "outputId": "1364e270-50a6-4210-d9b1-6f1fac878634"
      },
      "source": [
        "%tensorflow_version 1.x\n",
        "import tensorflow\n",
        "print(tensorflow.__version__)"
      ],
      "execution_count": 3,
      "outputs": [
        {
          "output_type": "stream",
          "text": [
            "TensorFlow 1.x selected.\n",
            "1.15.2\n"
          ],
          "name": "stdout"
        }
      ]
    },
    {
      "cell_type": "code",
      "metadata": {
        "id": "7YgGJG0A9ADl",
        "colab_type": "code",
        "colab": {
          "base_uri": "https://localhost:8080/",
          "height": 34
        },
        "outputId": "0c004a00-15bf-46c0-c38a-147c73ae9050"
      },
      "source": [
        "from bagan_train_new import *"
      ],
      "execution_count": 4,
      "outputs": [
        {
          "output_type": "stream",
          "text": [
            "Using TensorFlow backend.\n"
          ],
          "name": "stderr"
        }
      ]
    },
    {
      "cell_type": "markdown",
      "metadata": {
        "id": "_KY3lgoG7lEp",
        "colab_type": "text"
      },
      "source": [
        "# Generating"
      ]
    },
    {
      "cell_type": "markdown",
      "metadata": {
        "id": "jacCdRNX7lE_",
        "colab_type": "text"
      },
      "source": [
        "# Read"
      ]
    },
    {
      "cell_type": "code",
      "metadata": {
        "id": "AohZy41-7lE_",
        "colab_type": "code",
        "colab": {}
      },
      "source": [
        "from cifar10_web import cifar10\n",
        "import numpy as np\n",
        "\n",
        "def get_indexes(index_list, label: int = 5, drop_ratio: float = 0.4):\n",
        "\n",
        "    drop_ratio_list = dict(zip([0.4, 0.6, 0.75, 0.9],range(4)))\n",
        "    \n",
        "    return index_list[label+10*drop_ratio_list[drop_ratio]]\n",
        "\n",
        "def get_cifar_10(return_one_hot_y: bool = False):\n",
        "    \n",
        "    X_train, y_train, X_test, y_test = cifar10(path=None)\n",
        "    \n",
        "    X_train = X_train.reshape(-1,3,32,32).transpose(0,2,3,1)\n",
        "    X_test = X_test.reshape(-1,3,32,32).transpose(0,2,3,1)\n",
        "        \n",
        "    if return_one_hot_y == False:\n",
        "        y_train = np.array([np.argmax(a, axis=0) for a in y_train])\n",
        "        y_test = np.array([np.argmax(a, axis=0) for a in y_test])\n",
        "        \n",
        "    return X_train, y_train, X_test, y_test\n",
        "\n",
        "def get_imbalanced_dataset(X_train, y_train, label, drop_ratio):\n",
        "    \n",
        "    if isinstance(label,int) and isinstance(drop_ratio, float):\n",
        "        label = [label]\n",
        "        drop_ratio = [drop_ratio]\n",
        "    else:\n",
        "        label = list(label)\n",
        "        drop_ratio = list(drop_ratio)\n",
        "        \n",
        "    assert(len(label) == len(drop_ratio))\n",
        "    assert(sum([1 if i in [0.4, 0.6, 0.75, 0.9] else 0 for i in drop_ratio]) == len(drop_ratio))\n",
        "    \n",
        "    npzfile = np.load(\"selected_index_40.npz\", allow_pickle = True)\n",
        "    indexes = npzfile[\"arr_0\"]\n",
        "    \n",
        "    if y_train.ndim == 2:\n",
        "        y_train_ = np.array([np.argmax(a, axis=0) for a in y_train])\n",
        "    else:\n",
        "        y_train_ = y_train\n",
        "\n",
        "    for label_, drop_ratio_, i in zip(label, drop_ratio, range(len(label))):\n",
        "        \n",
        "        if i == 0:\n",
        "            label_index = np.where(y_train_ == label_)[0]\n",
        "            sample_index = get_indexes(indexes, label = label_, drop_ratio = drop_ratio_)\n",
        "            deleted_index = np.delete(label_index, sample_index)\n",
        "        else:\n",
        "            label_index = np.where(y_train_ == label_)[0]\n",
        "            sample_index = get_indexes(indexes, label = label_, drop_ratio = drop_ratio_)\n",
        "            print(deleted_index.shape)\n",
        "            print(np.delete(label_index, sample_index).shape)\n",
        "            deleted_index = np.concatenate((deleted_index, np.delete(label_index, sample_index)))\n",
        "    \n",
        "        \n",
        "    X_imbalanced = np.delete(X_train, deleted_index, 0)\n",
        "    y_imbalanced = np.delete(y_train, deleted_index, 0)\n",
        "\n",
        "    X_deleted = X_train[deleted_index]\n",
        "    y_deleted = y_train[deleted_index]\n",
        "\n",
        "    return X_imbalanced, y_imbalanced, X_deleted, y_deleted"
      ],
      "execution_count": 5,
      "outputs": []
    },
    {
      "cell_type": "code",
      "metadata": {
        "id": "wMz7Yw0D7lFC",
        "colab_type": "code",
        "colab": {}
      },
      "source": [
        "X_train, y_train, X_test, y_test = get_cifar_10()\n",
        "print(\"shape: \", X_train.shape, y_train.shape, X_test.shape, y_test.shape)\n",
        "\n",
        "X_train_imbalanced ,y_train_imbalanced, X_deleted, y_deleted= get_imbalanced_dataset(X_train, y_train, label = 3, drop_ratio= 0.9)\n",
        "print(\"shape after imbalanced: \", X_train_imbalanced.shape,y_train_imbalanced.shape,X_deleted.shape, y_deleted.shape)\n",
        "print(\"y = 3: \", np.sum(y_train == 3))\n",
        "print(\"y = 7: \",np.sum(y_train == 7))\n",
        "print(\"y = 3 after imbalanced: \", np.sum(y_train_imbalanced == 3))\n",
        "print(\"y = 7 after imbalanced: \",np.sum(y_train_imbalanced == 7))"
      ],
      "execution_count": null,
      "outputs": []
    },
    {
      "cell_type": "code",
      "metadata": {
        "id": "8BK9Zlvk7lFF",
        "colab_type": "code",
        "colab": {
          "base_uri": "https://localhost:8080/",
          "height": 275
        },
        "outputId": "2733d1ce-0b36-43c3-eabe-438c68a1d2b1"
      },
      "source": [
        "X_train, y_train, X_test, y_test = get_cifar_10()\n",
        "print(\"shape: \", X_train.shape, y_train.shape, X_test.shape, y_test.shape)\n",
        "\n",
        "X_train_imbalanced ,y_train_imbalanced, X_deleted, y_deleted= get_imbalanced_dataset(X_train, y_train, label = [3,6,9], drop_ratio= [0.6,0.4,0.75])\n",
        "print(\"shape after imbalanced: \", X_train_imbalanced.shape,y_train_imbalanced.shape,X_deleted.shape, y_deleted.shape)\n",
        "print(\"y = 3: \", np.sum(y_train == 3))\n",
        "print(\"y = 6: \",np.sum(y_train == 6))\n",
        "print(\"y = 7: \",np.sum(y_train == 6))\n",
        "print(\"y = 9: \",np.sum(y_train == 9))\n",
        "print(\"y = 3 after imbalanced: \", np.sum(y_train_imbalanced == 3))\n",
        "print(\"y = 6 after imbalanced: \", np.sum(y_train_imbalanced == 6))\n",
        "print(\"y = 7 after imbalanced: \", np.sum(y_train_imbalanced == 7))\n",
        "print(\"y = 9 after imbalanced: \",np.sum(y_train_imbalanced == 9))"
      ],
      "execution_count": 6,
      "outputs": [
        {
          "output_type": "stream",
          "text": [
            "shape:  (50000, 32, 32, 3) (50000,) (10000, 32, 32, 3) (10000,)\n",
            "(3000,)\n",
            "(2000,)\n",
            "(5000,)\n",
            "(3750,)\n",
            "shape after imbalanced:  (41250, 32, 32, 3) (41250,) (8750, 32, 32, 3) (8750,)\n",
            "y = 3:  5000\n",
            "y = 6:  5000\n",
            "y = 7:  5000\n",
            "y = 9:  5000\n",
            "y = 3 after imbalanced:  2000\n",
            "y = 6 after imbalanced:  3000\n",
            "y = 7 after imbalanced:  5000\n",
            "y = 9 after imbalanced:  1250\n"
          ],
          "name": "stdout"
        }
      ]
    },
    {
      "cell_type": "code",
      "metadata": {
        "id": "VHWXUp0k7lFH",
        "colab_type": "code",
        "colab": {
          "base_uri": "https://localhost:8080/",
          "height": 496
        },
        "outputId": "80c29bd3-7252-4277-961e-fa29d9bd42d6"
      },
      "source": [
        "train_model(X_train_imbalanced ,y_train_imbalanced, X_test, y_test, unbalance = [0.6,0.4,0.75], target_classes = [3,6,9], output_dir = '/content/drive/My Drive/SingleImageDataAug/BAGAN/', epochs=1, dataset_name='CIFAR10')"
      ],
      "execution_count": null,
      "outputs": [
        {
          "output_type": "stream",
          "text": [
            "Executing BAGAN.\n",
            "Using dataset:  CIFAR10\n",
            "read input data...\n",
            "input data loaded...\n",
            "Required GAN for class [3 6 9]\n",
            "Class counters:  [5000, 5000, 5000, 2000, 5000, 5000, 3000, 5000, 5000, 1250]\n",
            "WARNING:tensorflow:From /tensorflow-1.15.2/python3.6/tensorflow_core/python/ops/resource_variable_ops.py:1630: calling BaseResourceVariable.__init__ (from tensorflow.python.ops.resource_variable_ops) with constraint is deprecated and will be removed in a future version.\n",
            "Instructions for updating:\n",
            "If using Keras pass *_constraint arguments to layers.\n",
            "Curr Outshape: (None, 256, 16, 16)\n",
            "gen shape: (None, 3, 32, 32)\n",
            "3 32 32\n",
            "(None, 32, 16, 16)\n",
            "(None, 64, 16, 16)\n",
            "(None, 128, 8, 8)\n",
            "3 32 32\n",
            "(None, 32, 16, 16)\n",
            "(None, 64, 16, 16)\n",
            "(None, 128, 8, 8)\n",
            "uratio set to: [0.1 0.1 0.1 0.1 0.1 0.1 0.1 0.1 0.1 0.1]\n",
            "dratio set to: [0.1 0.1 0.1 0.1 0.1 0.1 0.1 0.1 0.1 0.1]\n",
            "gratio set to: [0.1 0.1 0.1 0.1 0.1 0.1 0.1 0.1 0.1 0.1]\n",
            "BAGAN init_autoenc\n",
            "BAGAN: training autoencoder\n",
            "Autoencoder train epoch: 1/1\n",
            "WARNING:tensorflow:From /usr/local/lib/python3.6/dist-packages/keras/backend/tensorflow_backend.py:422: The name tf.global_variables is deprecated. Please use tf.compat.v1.global_variables instead.\n",
            "\n"
          ],
          "name": "stdout"
        }
      ]
    },
    {
      "cell_type": "code",
      "metadata": {
        "id": "p08-ILuO7lFQ",
        "colab_type": "code",
        "colab": {}
      },
      "source": [
        ""
      ],
      "execution_count": null,
      "outputs": []
    }
  ]
}